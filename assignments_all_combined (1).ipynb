{
 "cells": [
  {
   "cell_type": "markdown",
   "id": "f3036b42",
   "metadata": {},
   "source": [
    "# PAAKHI MISHRA 21BEC0192\n",
    "# assignment 1"
   ]
  },
  {
   "cell_type": "code",
   "execution_count": 2,
   "id": "8f5eb127",
   "metadata": {},
   "outputs": [
    {
     "name": "stdout",
     "output_type": "stream",
     "text": [
      "Enter the number: 7\n",
      "0,1,1,2,3,5,8,None\n"
     ]
    }
   ],
   "source": [
    "#Q5. Write a program to produce Fibonacci series in Python?\n",
    "def fibonacci(num):\n",
    "    a = 0\n",
    "    b = 1\n",
    "\n",
    "    i = 0\n",
    "\n",
    "    while i < num:\n",
    "        print(a, end=',')\n",
    "        c = a + b\n",
    "        a = b\n",
    "        b = c\n",
    "    \n",
    "        i+=1\n",
    "    \n",
    "n = int(input('Enter the number: '))\n",
    "fib = fibonacci(n)\n",
    "print(fib)"
   ]
  },
  {
   "cell_type": "code",
   "execution_count": 3,
   "id": "2afae9c2",
   "metadata": {},
   "outputs": [
    {
     "name": "stdout",
     "output_type": "stream",
     "text": [
      "enter your number:5\n",
      "block\n",
      "enter your number:3\n",
      "3\n",
      "the end\n"
     ]
    }
   ],
   "source": [
    "#Q5) python program to Break the loop when x is 3, and see what happens with the␣, →else block:\n",
    "for x in range (0,100):\n",
    "    x = int(input(\"enter your number:\"))\n",
    "    if x == int(3):\n",
    "     break\n",
    "    else:\n",
    "        print (\"block\")\n",
    "print (x)\n",
    "print(\"the end\")\n",
    "    \n"
   ]
  },
  {
   "cell_type": "markdown",
   "id": "413f144b",
   "metadata": {},
   "source": [
    "# assignment 2"
   ]
  },
  {
   "cell_type": "code",
   "execution_count": 6,
   "id": "303524dd",
   "metadata": {},
   "outputs": [
    {
     "name": "stdout",
     "output_type": "stream",
     "text": [
      "Here is a guessing game!\n",
      "you initially have 100 points\n",
      "Try to guess the number. It is a value from 1-10\n",
      "Enter your guess: 5\n",
      "the random number is 10\n",
      "Your guess is too low!\n",
      "your current score is 90\n",
      "Enter your guess: 7\n",
      "the random number is 3\n",
      "Your guess is too high!\n",
      "your current score is 70\n",
      "Enter your guess: 6\n",
      "the random number is 3\n",
      "Your guess is too high!\n",
      "your current score is 50\n",
      "Enter your guess: 4\n",
      "the random number is 7\n",
      "Your guess is too low!\n",
      "your current score is 40\n",
      "Enter your guess: 2\n",
      "the random number is 4\n",
      "Your guess is too low!\n",
      "your current score is 30\n",
      "Enter your guess: 1\n",
      "the random number is 6\n",
      "Your guess is too low!\n",
      "your current score is 20\n",
      "Enter your guess: 9\n",
      "the random number is 5\n",
      "Your guess is too high!\n",
      "your current score is 0\n",
      "you lose the game\n"
     ]
    }
   ],
   "source": [
    "#Q15. Write the following game. The player starts with 100 points. The program then picks a \n",
    "#random number from 1 to 10 and asks the player to guess it. If they guess it right, they gain \n",
    "#100 points. If their guess is less than the number, then they lose 10 points. If their guess is \n",
    "#greater, they lose 20 points. After the guess, print out the result of the guess and the \n",
    "#player's amount of points. The computer then picks a new number and play continues in the \n",
    "#same way until the player gets to 200 or more points (in which case they win) or 0 or less \n",
    "#points (in which case they lose). Print out a message at the end indicating whether the \n",
    "#player won or lost\n",
    "#!/usr/bin/python\n",
    "import random \n",
    "player_score = 100\n",
    "print(\"Here is a guessing game!\")\n",
    "print(\"you initially have 100 points\")\n",
    "print(\"Try to guess the number. It is a value from 1-10\")\n",
    "while True: \n",
    "    guess = int(input('Enter your guess: '))\n",
    "    answer = random.randint(1,10) \n",
    "    print('the random number is',answer)\n",
    "    \n",
    "        \n",
    "    if (guess == answer):\n",
    "        player_score = player_score + 100\n",
    "        print('Your guess is the same!')\n",
    "        print('your current score is',player_score)\n",
    "        \n",
    "    else:\n",
    "        if (guess < answer):\n",
    "            player_score = player_score - 10\n",
    "            print('Your guess is too low!')\n",
    "            print('your current score is',player_score)\n",
    "        else:\n",
    "            print('Your guess is too high!')\n",
    "            player_score = player_score - 20\n",
    "            print('your current score is',player_score)\n",
    "    if(player_score<=0):\n",
    "        print('you lose the game')\n",
    "        break\n",
    "        \n",
    "    else:\n",
    "        if (player_score>=200):\n",
    "            print('you win the game')\n",
    "            break"
   ]
  },
  {
   "cell_type": "code",
   "execution_count": 7,
   "id": "132447fb",
   "metadata": {},
   "outputs": [
    {
     "name": "stdout",
     "output_type": "stream",
     "text": [
      "Enter two lists of same size\n",
      "Enter first list(L): 1,6,4\n",
      "Enter second list(M): 2,5,9\n",
      "List N:\n",
      "2\n",
      "6\n",
      "9\n"
     ]
    }
   ],
   "source": [
    "#Q 15. Write a program that asks the user to enter two lists of the same length. Then create a \n",
    "#new list where the entry at each index i in the new list is the larger of the entries at index i \n",
    "#of the user's two lists. For instance, if the two lists are [1, 25, 3] and [18, 2, 301, then new \n",
    "#list would be [18, 25, 301].\n",
    "print(\"Enter two lists of same size\")\n",
    "L = eval(input(\"Enter first list(L): \"))\n",
    "M = eval(input(\"Enter second list(M): \"))\n",
    "N = []\n",
    "print(\"List N:\")\n",
    "\n",
    "for i in range(len(L)):\n",
    "    N.append(print(max(L[i],M[i])))\n",
    "    "
   ]
  },
  {
   "cell_type": "code",
   "execution_count": 8,
   "id": "bcdd7419",
   "metadata": {},
   "outputs": [
    {
     "name": "stdout",
     "output_type": "stream",
     "text": [
      "['abcd', 'abdc', 'acbd', 'acdb', 'adbc', 'adcb', 'bacd', 'badc', 'bcad', 'bcda', 'bdac', 'bdca', 'cabd', 'cadb', 'cbad', 'cbda', 'cdab', 'cdba', 'dabc', 'dacb', 'dbac', 'dbca', 'dcab', 'dcba']\n"
     ]
    }
   ],
   "source": [
    "#Q15. here is a nice way to create a list of all rearrangements of the string abcd:\n",
    "#the output looks a little messy. Instead, we would like everything outputted as strings, like abcd,etc.\n",
    "#use the join function to accomplish this.\n",
    "from itertools import permutations \n",
    "print ([''.join(x) for x in permutations('abcd')])\n"
   ]
  },
  {
   "cell_type": "markdown",
   "id": "bdc8b7ff",
   "metadata": {},
   "source": [
    "# assignment 3 (MAT 1)"
   ]
  },
  {
   "cell_type": "code",
   "execution_count": 10,
   "id": "aec18b2c",
   "metadata": {},
   "outputs": [
    {
     "name": "stdout",
     "output_type": "stream",
     "text": [
      "2\n",
      "2\n",
      "2\n",
      "7.0\n"
     ]
    }
   ],
   "source": [
    "#Q1 \n",
    "#Write a program that reads an integer from the user. If the value entered by the\n",
    "#user is less than 2 then your program should display an appropriate error \n",
    "#message.Otherwise your program should display the prime numbers that can be\n",
    "#multipliedtogether to compute n, with one factor appearing on each line.Test Case: 56,100, 200\n",
    "\n",
    "import math\n",
    "\n",
    "# A function to print all prime factors of\n",
    "# a given number n\n",
    "def primeFactors(n):\n",
    "\t\n",
    "\t# Print the number of two's that divide n\n",
    "\twhile n % 2 == 0:\n",
    "\t\tprint(2,end = '\\n'),\n",
    "\t\tn = n / 2\n",
    "\t\t\n",
    "\t# n must be odd at this point\n",
    "\t# so a skip of 2 ( i = i + 2) can be used\n",
    "\tfor i in range(3, int(math.sqrt(n))+1, 2):\n",
    "\t\t\n",
    "\t\t# while i divides n, print i ad divide n\n",
    "\t\twhile n % i == 0:\n",
    "\t\t\tprint (i,end = '\\n'),\n",
    "\t\t\tn = n / i\n",
    "\n",
    "\t# Condition if n is a prime\n",
    "\t# number greater than 2\n",
    "\tif n > 2:\n",
    "\t\tprint (n)\n",
    "\t\t\n",
    "\n",
    "\n",
    "n = 56\n",
    "primeFactors(n)\n",
    "\n",
    "\n",
    "    "
   ]
  },
  {
   "cell_type": "code",
   "execution_count": 11,
   "id": "d74df95e",
   "metadata": {},
   "outputs": [
    {
     "name": "stdout",
     "output_type": "stream",
     "text": [
      "2\n",
      "2\n",
      "5\n",
      "5\n"
     ]
    }
   ],
   "source": [
    "#Q1 Python program to print prime factors\n",
    "\n",
    "import math\n",
    "\n",
    "# A function to print all prime factors of\n",
    "# a given number n\n",
    "def primeFactors(n):\n",
    "\t\n",
    "\t# Print the number of two's that divide n\n",
    "\twhile n % 2 == 0:\n",
    "\t\tprint(2,end = '\\n'),\n",
    "\t\tn = n / 2\n",
    "\t\t\n",
    "\t# n must be odd at this point\n",
    "\t# so a skip of 2 ( i = i + 2) can be used\n",
    "\tfor i in range(3, int(math.sqrt(n))+1, 2):\n",
    "\t\t\n",
    "\t\t# while i divides n, print i ad divide n\n",
    "\t\twhile n % i == 0:\n",
    "\t\t\tprint (i,end = '\\n'),\n",
    "\t\t\tn = n / i\n",
    "\n",
    "\t# Condition if n is a prime\n",
    "\t# number greater than 2\n",
    "\tif n > 2:\n",
    "\t\tprint (n)\n",
    "\t\t\n",
    "\n",
    "\n",
    "n = 100\n",
    "primeFactors(n)\n",
    "\n",
    "\n",
    "    "
   ]
  },
  {
   "cell_type": "code",
   "execution_count": 12,
   "id": "e4e1fd80",
   "metadata": {},
   "outputs": [
    {
     "name": "stdout",
     "output_type": "stream",
     "text": [
      "2\n",
      "2\n",
      "2\n",
      "5\n",
      "5\n"
     ]
    }
   ],
   "source": [
    "#Q1 Python program to print prime factors\n",
    "\n",
    "import math\n",
    "\n",
    "# A function to print all prime factors of\n",
    "# a given number n\n",
    "def primeFactors(n):\n",
    "\t\n",
    "\t# Print the number of two's that divide n\n",
    "\twhile n % 2 == 0:\n",
    "\t\tprint(2,end = '\\n'),\n",
    "\t\tn = n / 2\n",
    "\t\t\n",
    "\t# n must be odd at this point\n",
    "\t# so a skip of 2 ( i = i + 2) can be used\n",
    "\tfor i in range(3, int(math.sqrt(n))+1, 2):\n",
    "\t\t\n",
    "\t\t# while i divides n, print i ad divide n\n",
    "\t\twhile n % i == 0:\n",
    "\t\t\tprint (i,end = '\\n'),\n",
    "\t\t\tn = n / i\n",
    "\n",
    "\t# Condition if n is a prime\n",
    "\t# number greater than 2\n",
    "\tif n > 2:\n",
    "\t\tprint (n)\n",
    "\t\t\n",
    "\n",
    "\n",
    "n = 200\n",
    "primeFactors(n)\n",
    "\n",
    "\n",
    "    "
   ]
  },
  {
   "cell_type": "code",
   "execution_count": 13,
   "id": "6c6924c2",
   "metadata": {},
   "outputs": [
    {
     "name": "stdout",
     "output_type": "stream",
     "text": [
      "total credit during december was 571\n",
      "total debit during december was 641\n",
      "average of items is 14.0\n",
      "items above average value are: \n",
      "213\n",
      "261\n",
      "167\n"
     ]
    }
   ],
   "source": [
    "#Q2\n",
    "#Mr. Marut has used SBI credit (added amount denoted as +xx) and \n",
    "#debited(withdrawal amount denoted -yy) amount in passbook of December \n",
    "#2020. In month last day, he wants to know the total credit and debitedamount, \n",
    "#average of total transaction, also display credit above average amount.Test case: 213 -415 -156 261167\n",
    "\n",
    "list=[213,-415,-156,261,167]\n",
    "i=0\n",
    "credit=[]\n",
    "debit=[]\n",
    "for i in list:\n",
    "    if i<0:\n",
    "        credit.append(i)\n",
    "    else:\n",
    "        debit.append(i)\n",
    "print('total credit during december was', abs(sum(credit)))\n",
    "print('total debit during december was', abs(sum(debit)))\n",
    "avg=(sum(credit)+sum(debit))/5\n",
    "\n",
    "print('average of items is',avg)\n",
    "print('items above average value are: ')\n",
    "for x in list:\n",
    "\n",
    "    if x>avg:\n",
    "        print(x)"
   ]
  },
  {
   "cell_type": "code",
   "execution_count": 14,
   "id": "67a7adc7",
   "metadata": {},
   "outputs": [
    {
     "name": "stdout",
     "output_type": "stream",
     "text": [
      "Numbers in range 1-300 divisible by 3,5,7 are [105, 210]\n",
      "Numbers in range 1-300 divisible by 3 and 5 but not 7 are:  [15, 30, 45, 60, 75, 90, 120, 135, 150, 165, 180, 195, 225, 240, 255, 270, 285, 300]\n",
      "Numbers in range 1-300 not divisible by 3,5,7 are : [1, 2, 4, 8, 11, 13, 16, 17, 19, 22, 23, 26, 29, 31, 32, 34, 37, 38, 41, 43, 44, 46, 47, 52, 53, 58, 59, 61, 62, 64, 67, 68, 71, 73, 74, 76, 79, 82, 83, 86, 88, 89, 92, 94, 97, 101, 103, 104, 106, 107, 109, 113, 116, 118, 121, 122, 124, 127, 128, 131, 134, 136, 137, 139, 142, 143, 146, 148, 149, 151, 152, 157, 158, 163, 164, 166, 167, 169, 172, 173, 176, 178, 179, 181, 184, 187, 188, 191, 193, 194, 197, 199, 202, 206, 208, 209, 211, 212, 214, 218, 221, 223, 226, 227, 229, 232, 233, 236, 239, 241, 242, 244, 247, 248, 251, 253, 254, 256, 257, 262, 263, 268, 269, 271, 272, 274, 277, 278, 281, 283, 284, 286, 289, 292, 293, 296, 298, 299]\n"
     ]
    }
   ],
   "source": [
    "#Q3\n",
    "#Write a program that first produces three sets of numbers between 1 and300, the \n",
    "#first all those numbers that are dividable by3, the second all those numbers thatare \n",
    "#dividable by 5, and the third all those numbers that are dividable by 7. It is easiest\n",
    "#to do that with list comprehension, but it is not necessary. Now produce sets of all the\n",
    "#numbers between 1 and 300 that (a) are dividable by 3, 5, and 7, (b) are dividable \n",
    "#by 3and 5, but not by 7, (c) that are not dividable by 3, 5, or 7. The shortest \n",
    "#solution has onlyone line of code for each of the six sets\n",
    "\n",
    "x = range(1,301,1)\n",
    "\n",
    "l1 = [] #divisible by 3\n",
    "l2 = [] #divisible by 5\n",
    "l3 = [] #divisible by 7\n",
    "\n",
    "for i in x:\n",
    "    if i%3==0:\n",
    "        l1.append(i)\n",
    "\n",
    "    if i%5==0:\n",
    "        l2.append(i)\n",
    "\n",
    "    if i%7==0:\n",
    "        l3.append(i)\n",
    "\n",
    "def common_member2(a,b):\n",
    "    y=[]\n",
    "    for i in a:\n",
    "        if i in b:\n",
    "            y.append(i)\n",
    "    print(y)\n",
    "\n",
    "\n",
    "y=[]\n",
    "for i in l1:\n",
    "    if i in l2:\n",
    "        if i in l3:\n",
    "            y.append(i)\n",
    "\n",
    "z=[]\n",
    "for i in l1:\n",
    "    if i in l2:\n",
    "        if i not in l3:\n",
    "            z.append(i)\n",
    "\n",
    "s=[]\n",
    "for i in x:\n",
    "    if i not in l1:\n",
    "        if i not in l2:\n",
    "            if i not in l3:\n",
    "                s.append(i)\n",
    "\n",
    "\n",
    "print(\"Numbers in range 1-300 divisible by 3,5,7 are\", y)\n",
    "print(\"Numbers in range 1-300 divisible by 3 and 5 but not 7 are: \", z)\n",
    "print(\"Numbers in range 1-300 not divisible by 3,5,7 are :\", s)"
   ]
  },
  {
   "cell_type": "markdown",
   "id": "0592bc3f",
   "metadata": {},
   "source": [
    "# assignment 4"
   ]
  },
  {
   "cell_type": "code",
   "execution_count": 16,
   "id": "9cba65c2",
   "metadata": {},
   "outputs": [
    {
     "name": "stdout",
     "output_type": "stream",
     "text": [
      "xyc abz\n"
     ]
    }
   ],
   "source": [
    "#Q5\n",
    "#Write a Python program to get a single string from two given strings, \n",
    "#separated by a space and swap the first two characters of each string.\n",
    "def chars_mix_up(a, b):\n",
    "  new_a = b[:2] + a[2:]\n",
    "  new_b = a[:2] + b[2:]\n",
    "\n",
    "  return new_a + ' ' + new_b\n",
    "print(chars_mix_up('abc', 'xyz'))"
   ]
  },
  {
   "cell_type": "code",
   "execution_count": 17,
   "id": "e828b2ae",
   "metadata": {},
   "outputs": [
    {
     "name": "stdout",
     "output_type": "stream",
     "text": [
      "'mi' in \"ours\" occurance: 0\n"
     ]
    }
   ],
   "source": [
    "#Q20\n",
    "#Find the output \n",
    "#'mi' in 'ours'\n",
    "text = \"\"\"ours\"\"\"\n",
    " \n",
    "def clean( s ):\n",
    "    news = \"\"\n",
    "    s = s.lower()\n",
    "    for c in s:\n",
    "        if c >= \"a\" and c <= \"z\":\n",
    "            news += c\n",
    "        else:\n",
    "            news += \" \"\n",
    "    return news\n",
    " \n",
    "count = 0\n",
    "for word in clean( text ).split():\n",
    "    if word == \"mi\":\n",
    "        count += 1\n",
    " \n",
    "print( \"'mi' in \\\"ours\\\" occurance:\", count )"
   ]
  },
  {
   "cell_type": "code",
   "execution_count": 18,
   "id": "1ad035aa",
   "metadata": {},
   "outputs": [
    {
     "name": "stdout",
     "output_type": "stream",
     "text": [
      "Temperature value in degree Celsius: 37\n",
      "The 37.00 degree Celsius is equal to: 98.60 Fahrenheit\n"
     ]
    }
   ],
   "source": [
    "#Q30\n",
    "#write a function that converts temp given in celsius into fahrenheit\n",
    "celsius_1 = float(input(\"Temperature value in degree Celsius: \" ))  \n",
    "  \n",
    "# For Converting the temperature to degree Fahrenheit by using the above   \n",
    "Fahrenheit_1 = (celsius_1 * 1.8) + 32  \n",
    "    \n",
    "# print the result  \n",
    "print('The %.2f degree Celsius is equal to: %.2f Fahrenheit'  \n",
    "      %(celsius_1, Fahrenheit_1))  "
   ]
  },
  {
   "cell_type": "code",
   "execution_count": 19,
   "id": "51683714",
   "metadata": {},
   "outputs": [
    {
     "name": "stdout",
     "output_type": "stream",
     "text": [
      "100\n"
     ]
    }
   ],
   "source": [
    "#Q5\n",
    "#find the output\n",
    "def sqr(x):\n",
    "    print(x*x)\n",
    "sqr(10)   "
   ]
  },
  {
   "cell_type": "code",
   "execution_count": null,
   "id": "c5629337",
   "metadata": {},
   "outputs": [],
   "source": []
  }
 ],
 "metadata": {
  "kernelspec": {
   "display_name": "Python 3",
   "language": "python",
   "name": "python3"
  },
  "language_info": {
   "codemirror_mode": {
    "name": "ipython",
    "version": 3
   },
   "file_extension": ".py",
   "mimetype": "text/x-python",
   "name": "python",
   "nbconvert_exporter": "python",
   "pygments_lexer": "ipython3",
   "version": "3.8.8"
  }
 },
 "nbformat": 4,
 "nbformat_minor": 5
}
